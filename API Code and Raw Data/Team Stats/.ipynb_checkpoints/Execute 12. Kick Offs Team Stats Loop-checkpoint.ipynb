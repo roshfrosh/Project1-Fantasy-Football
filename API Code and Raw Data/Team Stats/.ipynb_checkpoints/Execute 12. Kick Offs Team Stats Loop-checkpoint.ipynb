{
 "cells": [
  {
   "cell_type": "code",
   "execution_count": 1,
   "metadata": {},
   "outputs": [],
   "source": [
    "import http.client\n",
    "import matplotlib.pyplot as plt\n",
    "import pandas as pd\n",
    "import numpy as np\n",
    "import requests\n",
    "import time\n",
    "import json\n",
    "import sys\n",
    "\n",
    "key = \"kvnrxwq55ysrkb6295gtus2r\""
   ]
  },
  {
   "cell_type": "code",
   "execution_count": 2,
   "metadata": {},
   "outputs": [],
   "source": [
    "# File to Load \n",
    "team_data_to_load = \"Resources/Input/Team_List.csv\"\n",
    "\n",
    "# Read Team and Player Data File and store into Pandas Data Frames\n",
    "team_df = pd.read_csv(team_data_to_load)\n"
   ]
  },
  {
   "cell_type": "code",
   "execution_count": 3,
   "metadata": {},
   "outputs": [
    {
     "name": "stdout",
     "output_type": "stream",
     "text": [
      "0||2012\n",
      "Team Fail: 768c92aa-75ff-4a43-bcc0-f2798c2e1724\n",
      "(<class 'NameError'>, NameError(\"name 'JSONContent2' is not defined\"), <traceback object at 0x000001E0118817C8>)\n",
      "1||2012\n",
      "Team Fail: 4809ecb0-abd3-451d-9c4a-92a90b83ca06\n",
      "(<class 'NameError'>, NameError(\"name 'JSONContent2' is not defined\"), <traceback object at 0x000001E0118C1A88>)\n",
      "2||2012\n"
     ]
    },
    {
     "ename": "KeyboardInterrupt",
     "evalue": "",
     "output_type": "error",
     "traceback": [
      "\u001b[1;31m---------------------------------------------------------------------------\u001b[0m",
      "\u001b[1;31mKeyboardInterrupt\u001b[0m                         Traceback (most recent call last)",
      "\u001b[1;32m<ipython-input-3-ce37fe0323c9>\u001b[0m in \u001b[0;36m<module>\u001b[1;34m\u001b[0m\n\u001b[0;32m     27\u001b[0m         \u001b[0mprint\u001b[0m \u001b[1;33m(\u001b[0m\u001b[0mstr\u001b[0m\u001b[1;33m(\u001b[0m\u001b[0mi\u001b[0m\u001b[1;33m)\u001b[0m \u001b[1;33m+\u001b[0m \u001b[1;34m\"||\"\u001b[0m \u001b[1;33m+\u001b[0m \u001b[0myr\u001b[0m\u001b[1;33m)\u001b[0m\u001b[1;33m\u001b[0m\u001b[1;33m\u001b[0m\u001b[0m\n\u001b[0;32m     28\u001b[0m         \u001b[0murl\u001b[0m \u001b[1;33m=\u001b[0m \u001b[1;34m\"https://api.sportradar.us/nfl/official/trial/v5/en/seasons/\"\u001b[0m \u001b[1;33m+\u001b[0m \u001b[0myr\u001b[0m \u001b[1;33m+\u001b[0m \u001b[1;34m\"/REG/teams/\"\u001b[0m \u001b[1;33m+\u001b[0m \u001b[0mteam_list\u001b[0m\u001b[1;33m[\u001b[0m\u001b[0mi\u001b[0m\u001b[1;33m]\u001b[0m \u001b[1;33m+\u001b[0m \u001b[1;34m\"/statistics.json?api_key=\"\u001b[0m \u001b[1;33m+\u001b[0m \u001b[0mkey\u001b[0m\u001b[1;33m\u001b[0m\u001b[1;33m\u001b[0m\u001b[0m\n\u001b[1;32m---> 29\u001b[1;33m         \u001b[0mtime\u001b[0m\u001b[1;33m.\u001b[0m\u001b[0msleep\u001b[0m\u001b[1;33m(\u001b[0m\u001b[1;36m2\u001b[0m\u001b[1;33m)\u001b[0m\u001b[1;33m\u001b[0m\u001b[1;33m\u001b[0m\u001b[0m\n\u001b[0m\u001b[0;32m     30\u001b[0m         \u001b[0mJSONContent\u001b[0m \u001b[1;33m=\u001b[0m \u001b[0mrequests\u001b[0m\u001b[1;33m.\u001b[0m\u001b[0mget\u001b[0m\u001b[1;33m(\u001b[0m\u001b[0murl\u001b[0m\u001b[1;33m)\u001b[0m\u001b[1;33m.\u001b[0m\u001b[0mjson\u001b[0m\u001b[1;33m(\u001b[0m\u001b[1;33m)\u001b[0m\u001b[1;33m\u001b[0m\u001b[1;33m\u001b[0m\u001b[0m\n\u001b[0;32m     31\u001b[0m         \u001b[1;32mtry\u001b[0m\u001b[1;33m:\u001b[0m\u001b[1;33m\u001b[0m\u001b[1;33m\u001b[0m\u001b[0m\n",
      "\u001b[1;31mKeyboardInterrupt\u001b[0m: "
     ]
    }
   ],
   "source": [
    "#Receiving Data\n",
    "#params to initiate loop through teams\n",
    "year_list = [\"2012\", \"2013\", \"2014\", \"2015\", \"2016\", \"2017\", \"2018\"]\n",
    "team_list = team_df[\"Team ID\"].tolist()\n",
    "\n",
    "\n",
    "#lists\n",
    "team_id_df = []\n",
    "season_df = []\n",
    "key_df = []\n",
    "ko_ez_df = []\n",
    "ko_inside_20_df = []\n",
    "ko_kickoffs_df = [] \n",
    "ko_onside_attempts_df = []\n",
    "ko_onside_successes_df = []\n",
    "ko_oob_df = []\n",
    "ko_return_yds_df = []\n",
    "ko_squib_kicks_df = []\n",
    "ko_touchbacks_df = []\n",
    "ko_yds_df = []\n",
    "\n",
    "\n",
    "#params to process player descriptive data\n",
    "for a in range(len(year_list)):\n",
    "    yr = year_list[a]\n",
    "    for i in range (len(team_list)):\n",
    "        print (str(i) + \"||\" + yr)\n",
    "        url = \"https://api.sportradar.us/nfl/official/trial/v5/en/seasons/\" + yr + \"/REG/teams/\" + team_list[i] + \"/statistics.json?api_key=\" + key\n",
    "        time.sleep(2)\n",
    "        JSONContent = requests.get(url).json()\n",
    "        try: \n",
    "            ko_ez = JSONContent[\"record\"][\"kickoffs\"][\"endzone\"] \n",
    "            ko_inside_20 = JSONContent[\"record\"][\"kickoffs\"][\"inside_20\"] \n",
    "            ko_kickoffs = JSONContent[\"record\"][\"kickoffs\"][\"kickoffs\"] \n",
    "            ko_onside_attempts = JSONContent[\"record\"][\"kickoffs\"][\"onside_attempts\"] \n",
    "            ko_onside_successes = JSONContent[\"record\"][\"kickoffs\"][\"onside_successes\"] \n",
    "            ko_oob = JSONContent[\"record\"][\"kickoffs\"][\"out_of_bounds\"] \n",
    "            ko_return_yds = JSONContent[\"record\"][\"kickoffs\"][\"return_yards\"] \n",
    "            ko_squib_kicks = JSONContent[\"record\"][\"kickoffs\"][\"squib_kicks\"] \n",
    "            ko_touchbacks = JSONContent[\"record\"][\"kickoffs\"][\"touchbacks\"] \n",
    "            ko_yds = JSONContent[\"record\"][\"kickoffs\"][\"yards\"] \n",
    "            season_df.append(yr)\n",
    "            team_id_df.append(team_list[i])\n",
    "            key_df.append(team_list[i]+yr)\n",
    "            ko_ez_df.append(ko_ez)\n",
    "            ko_inside_20_df.append(ko_inside_20)\n",
    "            ko_kickoffs_df.append(ko_kickoffs)\n",
    "            ko_onside_attempts_df.append(ko_onside_attempts)\n",
    "            ko_onside_successes_df.append(ko_onside_successes)\n",
    "            ko_oob_df.append(ko_oob)\n",
    "            ko_return_yds_df.append(ko_return_yds)\n",
    "            ko_squib_kicks_df.append(ko_squib_kicks)\n",
    "            ko_touchbacks_df.append(ko_touchbacks)\n",
    "            ko_yds_df.append(ko_yds)\n",
    "            print(\"Team: \"+team_list[i])\n",
    "        except:\n",
    "            print(\"Team Fail: \"+team_list[i])\n",
    "            print(sys.exc_info())  \n",
    "            continue \n",
    "\n",
    "data = {\"Season\": season_df, \n",
    "        \"Team ID\": team_id_df, \n",
    "        \"TKey\": key_df, \n",
    "        \"Kick Off End Zone\":ko_ez_df,\n",
    "        \"Kick Off Inside 20\":ko_inside_20_df,\n",
    "        \"Kick Off Kick Offs\":ko_kickoffs_df,\n",
    "        \"Kick Off Onside Attempts\":ko_onside_attempts_df,\n",
    "        \"Kick Off Onside Successes\":ko_onside_successes_df,\n",
    "        \"Kick Off OOB\":ko_oob_df,\n",
    "        \"Kick Off Ret Yds\":ko_return_yds_df,\n",
    "        \"Kick Off Squib Kicks\":ko_squib_kicks_df,\n",
    "        \"Kick Off Touchbacks\":ko_touchbacks_df,\n",
    "        \"Kick Off Yds\":ko_yds_df   \n",
    "       }\n",
    "\n",
    "df = pd.DataFrame(data) \n",
    "df.head()"
   ]
  },
  {
   "cell_type": "code",
   "execution_count": 10,
   "metadata": {},
   "outputs": [],
   "source": [
    "df.to_csv(r'Resources/Output/Team_Stats_2012_2018_KickOffs.csv')"
   ]
  }
 ],
 "metadata": {
  "kernelspec": {
   "display_name": "Python 3",
   "language": "python",
   "name": "python3"
  },
  "language_info": {
   "codemirror_mode": {
    "name": "ipython",
    "version": 3
   },
   "file_extension": ".py",
   "mimetype": "text/x-python",
   "name": "python",
   "nbconvert_exporter": "python",
   "pygments_lexer": "ipython3",
   "version": "3.7.3"
  }
 },
 "nbformat": 4,
 "nbformat_minor": 2
}
