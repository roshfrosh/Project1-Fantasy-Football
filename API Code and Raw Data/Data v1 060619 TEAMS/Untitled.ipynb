{
 "cells": [
  {
   "cell_type": "code",
   "execution_count": 1,
   "metadata": {},
   "outputs": [],
   "source": [
    "# Dependencies and Setup\n",
    "%matplotlib inline\n",
    "import matplotlib.pyplot as plt\n",
    "import pandas as pd\n",
    "import numpy as np\n",
    "from scipy.stats import sem\n",
    "\n",
    "# Hide warning messages in notebook\n",
    "import warnings\n",
    "warnings.filterwarnings('ignore')\n",
    "\n",
    "# File to Load (Remember to Change These)\n",
    "FFS = \"Offense_Player_Receiving Stats_2012_to_2018wTeam.csv\"\n",
    "\n",
    "\n",
    "# Read the Mouse and Drug Data and the Clinical Trial Data\n",
    "FFS_df = pd.read_csv(FFS)\n",
    "\n",
    "# Combine the data into a single dataset\n",
    "# data_combine = pd.merge(mouse_data,clinical_data, how='left', on=[\"Mouse ID\", \"Mouse ID\"])\n",
    "# Display the data table for preview\n",
    "FFS_df=FFS_df.fillna(0)\n"
   ]
  },
  {
   "cell_type": "code",
   "execution_count": 4,
   "metadata": {},
   "outputs": [],
   "source": [
    "ff3=FFS_df.head(1)"
   ]
  },
  {
   "cell_type": "code",
   "execution_count": 5,
   "metadata": {},
   "outputs": [
    {
     "data": {
      "text/html": [
       "<div>\n",
       "<style scoped>\n",
       "    .dataframe tbody tr th:only-of-type {\n",
       "        vertical-align: middle;\n",
       "    }\n",
       "\n",
       "    .dataframe tbody tr th {\n",
       "        vertical-align: top;\n",
       "    }\n",
       "\n",
       "    .dataframe thead th {\n",
       "        text-align: right;\n",
       "    }\n",
       "</style>\n",
       "<table border=\"1\" class=\"dataframe\">\n",
       "  <thead>\n",
       "    <tr style=\"text-align: right;\">\n",
       "      <th></th>\n",
       "      <th>Unnamed: 0</th>\n",
       "      <th>Player ID</th>\n",
       "      <th>Season</th>\n",
       "      <th>Rec Air Yards</th>\n",
       "      <th>Team ID</th>\n",
       "      <th>Rec Avg Yards</th>\n",
       "      <th>Rec Broken Tackles</th>\n",
       "      <th>Rec Catchable Passes</th>\n",
       "      <th>Rec Dropped Passes</th>\n",
       "      <th>Rec Longest</th>\n",
       "      <th>Rec Longest TD</th>\n",
       "      <th>Rec Receptions</th>\n",
       "      <th>Rec Red Zone Targets</th>\n",
       "      <th>Rec Targets</th>\n",
       "      <th>Rec Touchdowns</th>\n",
       "      <th>Rec Yards</th>\n",
       "      <th>Rec Yards After Catch</th>\n",
       "      <th>Rec Yards After Contact</th>\n",
       "    </tr>\n",
       "  </thead>\n",
       "  <tbody>\n",
       "    <tr>\n",
       "      <th>0</th>\n",
       "      <td>0</td>\n",
       "      <td>cf23126f-055b-4617-819b-bb4bcb84541a</td>\n",
       "      <td>2012</td>\n",
       "      <td>8</td>\n",
       "      <td>768c92aa-75ff-4a43-bcc0-f2798c2e1724</td>\n",
       "      <td>3.25</td>\n",
       "      <td>0</td>\n",
       "      <td>0</td>\n",
       "      <td>0</td>\n",
       "      <td>5</td>\n",
       "      <td>2</td>\n",
       "      <td>4</td>\n",
       "      <td>1</td>\n",
       "      <td>4</td>\n",
       "      <td>2</td>\n",
       "      <td>13</td>\n",
       "      <td>5</td>\n",
       "      <td>0</td>\n",
       "    </tr>\n",
       "  </tbody>\n",
       "</table>\n",
       "</div>"
      ],
      "text/plain": [
       "   Unnamed: 0                             Player ID  Season  Rec Air Yards  \\\n",
       "0           0  cf23126f-055b-4617-819b-bb4bcb84541a    2012              8   \n",
       "\n",
       "                                Team ID  Rec Avg Yards  Rec Broken Tackles  \\\n",
       "0  768c92aa-75ff-4a43-bcc0-f2798c2e1724           3.25                   0   \n",
       "\n",
       "   Rec Catchable Passes  Rec Dropped Passes  Rec Longest  Rec Longest TD  \\\n",
       "0                     0                   0            5               2   \n",
       "\n",
       "   Rec Receptions  Rec Red Zone Targets  Rec Targets  Rec Touchdowns  \\\n",
       "0               4                     1            4               2   \n",
       "\n",
       "   Rec Yards  Rec Yards After Catch  Rec Yards After Contact  \n",
       "0         13                      5                        0  "
      ]
     },
     "execution_count": 5,
     "metadata": {},
     "output_type": "execute_result"
    }
   ],
   "source": [
    "ff3"
   ]
  },
  {
   "cell_type": "code",
   "execution_count": 13,
   "metadata": {},
   "outputs": [
    {
     "ename": "SyntaxError",
     "evalue": "can't assign to literal (<ipython-input-13-13021b3e212a>, line 2)",
     "output_type": "error",
     "traceback": [
      "\u001b[1;36m  File \u001b[1;32m\"<ipython-input-13-13021b3e212a>\"\u001b[1;36m, line \u001b[1;32m2\u001b[0m\n\u001b[1;33m    'FP_Rec'= ff3['Rec Receptions'] * '6'\u001b[0m\n\u001b[1;37m                                         ^\u001b[0m\n\u001b[1;31mSyntaxError\u001b[0m\u001b[1;31m:\u001b[0m can't assign to literal\n"
     ]
    }
   ],
   "source": [
    "\n",
    "'FP_Rec'= ff3['Rec Receptions'] * '6'\n",
    "# 'FP_R_TDs' =ff3['Rec Touchdowns'] *6,\n",
    "# 'FP_R_Yards' =ff3['Rec Yards'] * 6\n"
   ]
  },
  {
   "cell_type": "code",
   "execution_count": null,
   "metadata": {},
   "outputs": [],
   "source": []
  }
 ],
 "metadata": {
  "kernelspec": {
   "display_name": "Python 3",
   "language": "python",
   "name": "python3"
  },
  "language_info": {
   "codemirror_mode": {
    "name": "ipython",
    "version": 3
   },
   "file_extension": ".py",
   "mimetype": "text/x-python",
   "name": "python",
   "nbconvert_exporter": "python",
   "pygments_lexer": "ipython3",
   "version": "3.7.3"
  }
 },
 "nbformat": 4,
 "nbformat_minor": 2
}
