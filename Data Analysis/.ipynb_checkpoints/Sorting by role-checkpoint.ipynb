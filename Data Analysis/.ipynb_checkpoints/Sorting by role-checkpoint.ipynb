{
 "cells": [
  {
   "cell_type": "code",
   "execution_count": 2,
   "metadata": {},
   "outputs": [],
   "source": [
    "import pandas as pd\n",
    "import numpy as np"
   ]
  },
  {
   "cell_type": "code",
   "execution_count": 3,
   "metadata": {},
   "outputs": [],
   "source": [
    "data = 'FantasyStats/fantasystatsall.csv'\n",
    "full_df = pd.read_csv(data)"
   ]
  },
  {
   "cell_type": "code",
   "execution_count": 8,
   "metadata": {},
   "outputs": [],
   "source": [
    "# Group By Roles\n",
    "quarterback = full_df.loc[full_df[\"Position\"] == \"QB\"]\n",
    "output_data_QB = \"GroupbyRoles/QB.csv\"\n",
    "quarterback.to_csv (output_data_QB, index = None, header=True)\n",
    "\n",
    "widereceiver = full_df.loc[full_df[\"Position\"] == \"WR\"]\n",
    "output_data_WR = \"GroupbyRoles/WR.csv\"\n",
    "widereceiver.to_csv (output_data_WR, index = None, header=True)\n",
    "\n",
    "tightend = full_df.loc[full_df[\"Position\"] == \"TE\"]\n",
    "output_data_TE = \"GroupbyRoles/TE.csv\"\n",
    "tightend.to_csv (output_data_TE, index = None, header=True)\n",
    "\n",
    "runningback = full_df.loc[full_df[\"Position\"] == \"RB\"]\n",
    "output_data_RB = \"GroupbyRoles/RB.csv\"\n",
    "runningback.to_csv (output_data_RB, index = None, header=True)\n",
    "\n",
    "fullback = full_df.loc[full_df[\"Position\"] == \"FB\"]\n",
    "output_data_FB = \"GroupbyRoles/FB.csv\"\n",
    "fullback.to_csv (output_data_FB, index = None, header=True)\n",
    "\n",
    "kicker = full_df.loc[full_df[\"Position\"] == \"K\"]\n",
    "output_data_K = \"GroupbyRoles/K.csv\"\n",
    "kicker.to_csv (output_data_K, index = None, header=True)\n",
    "\n",
    "\n",
    "# Check that all positions have been accounted for\n",
    "total = quarterback[\"Position\"].count() + widereceiver[\"Position\"].count() + tightend[\"Position\"].count()+ runningback[\"Position\"].count() + fullback[\"Position\"].count() + kicker[\"Position\"].count()\n"
   ]
  },
  {
   "cell_type": "code",
   "execution_count": null,
   "metadata": {},
   "outputs": [],
   "source": []
  },
  {
   "cell_type": "code",
   "execution_count": null,
   "metadata": {},
   "outputs": [],
   "source": []
  }
 ],
 "metadata": {
  "kernelspec": {
   "display_name": "Python 3",
   "language": "python",
   "name": "python3"
  },
  "language_info": {
   "codemirror_mode": {
    "name": "ipython",
    "version": 3
   },
   "file_extension": ".py",
   "mimetype": "text/x-python",
   "name": "python",
   "nbconvert_exporter": "python",
   "pygments_lexer": "ipython3",
   "version": "3.6.8"
  }
 },
 "nbformat": 4,
 "nbformat_minor": 2
}
